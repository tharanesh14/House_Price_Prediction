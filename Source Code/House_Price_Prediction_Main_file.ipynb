{
  "nbformat": 4,
  "nbformat_minor": 0,
  "metadata": {
    "colab": {
      "name": "House_Price_Prediction_Main_file.ipynb",
      "provenance": [],
      "collapsed_sections": []
    },
    "kernelspec": {
      "name": "python3",
      "display_name": "Python 3"
    },
    "language_info": {
      "name": "python"
    }
  },
  "cells": [
    {
      "cell_type": "markdown",
      "source": [
        "\n",
        "# **Problem Statement:**\n",
        "\n",
        "A Client is looking for a website which will show the price of houses based on the area, the number of bedrooms and how old the house is but he could not find the best one. Can you develop an ML model for the given dataset and create the Model.\n"
      ],
      "metadata": {
        "id": "pTSbsW_688Dc"
      }
    },
    {
      "cell_type": "markdown",
      "source": [
        "---"
      ],
      "metadata": {
        "id": "jK9IXwQ6KsIW"
      }
    },
    {
      "cell_type": "markdown",
      "source": [
        "# **Understanding the Business Problem and Client requirement**\n",
        "The clients need to predict the prices of the house."
      ],
      "metadata": {
        "id": "EbA6O2iD9HrU"
      }
    },
    {
      "cell_type": "markdown",
      "source": [
        "---"
      ],
      "metadata": {
        "id": "LlGgrEMVKtA-"
      }
    },
    {
      "cell_type": "markdown",
      "source": [
        "# **Data Collection**\n",
        "\n",
        "The Dataset used here is our own Dataset"
      ],
      "metadata": {
        "id": "0V7h_8AP9RW8"
      }
    },
    {
      "cell_type": "markdown",
      "source": [
        "---"
      ],
      "metadata": {
        "id": "huuBVwfkKtxG"
      }
    },
    {
      "cell_type": "markdown",
      "source": [
        "# **Import the required libraries**"
      ],
      "metadata": {
        "id": "p_RsT6gc9aQ7"
      }
    },
    {
      "cell_type": "code",
      "source": [
        "import pandas as pd"
      ],
      "metadata": {
        "id": "Vy8uKo2L9DQ-"
      },
      "execution_count": 1,
      "outputs": []
    },
    {
      "cell_type": "markdown",
      "source": [
        "# **Upload the file into a dataframe**"
      ],
      "metadata": {
        "id": "S5nIxOue9fUr"
      }
    },
    {
      "cell_type": "code",
      "execution_count": 2,
      "metadata": {
        "id": "0KxGiWTp7Fib",
        "colab": {
          "base_uri": "https://localhost:8080/"
        },
        "outputId": "74e96e7c-4502-4caf-909e-d2480a473a11"
      },
      "outputs": [
        {
          "output_type": "stream",
          "name": "stdout",
          "text": [
            "    area  bedroom  age     price\n",
            "0   1000        1    3   2500000\n",
            "1   1600        2    1   3500000\n",
            "2   2200        2    2   4000000\n",
            "3   2600        3    4   4500000\n",
            "4   3600        3    5   5700000\n",
            "5   4200        4    2   7000000\n",
            "6   4500        4    3   8500000\n",
            "7   2700        2    1   5000000\n",
            "8   1800        1    1   3800000\n",
            "9   3300        3    3   5000000\n",
            "10  2950        3    2   5350000\n",
            "11  5200        4    3  12200000\n",
            "12  3700        3    2   6500000\n",
            "13  1450        2    1   3000000\n",
            "14  1250        1    1   2800000\n"
          ]
        }
      ],
      "source": [
        "df = pd.read_csv('/content/housepricedata.csv')\n",
        "print(df)"
      ]
    },
    {
      "cell_type": "markdown",
      "source": [
        "---"
      ],
      "metadata": {
        "id": "EqmB50MNKwJ-"
      }
    },
    {
      "cell_type": "markdown",
      "source": [
        "# **Data Analysis**"
      ],
      "metadata": {
        "id": "KEPNOcVdKVmu"
      }
    },
    {
      "cell_type": "markdown",
      "source": [
        "># **Preparing X and y**"
      ],
      "metadata": {
        "id": "QiKj_QyS9unL"
      }
    },
    {
      "cell_type": "code",
      "source": [
        "X=df.drop('price',axis=1)\n",
        "X"
      ],
      "metadata": {
        "id": "nG6en3R89qWM",
        "colab": {
          "base_uri": "https://localhost:8080/",
          "height": 520
        },
        "outputId": "d641fdaa-1fc7-4543-a5e2-c7ccbc58eb53"
      },
      "execution_count": 3,
      "outputs": [
        {
          "output_type": "execute_result",
          "data": {
            "text/plain": [
              "    area  bedroom  age\n",
              "0   1000        1    3\n",
              "1   1600        2    1\n",
              "2   2200        2    2\n",
              "3   2600        3    4\n",
              "4   3600        3    5\n",
              "5   4200        4    2\n",
              "6   4500        4    3\n",
              "7   2700        2    1\n",
              "8   1800        1    1\n",
              "9   3300        3    3\n",
              "10  2950        3    2\n",
              "11  5200        4    3\n",
              "12  3700        3    2\n",
              "13  1450        2    1\n",
              "14  1250        1    1"
            ],
            "text/html": [
              "\n",
              "  <div id=\"df-ba7c73c1-05f7-414c-8f91-a83a5fdd3196\">\n",
              "    <div class=\"colab-df-container\">\n",
              "      <div>\n",
              "<style scoped>\n",
              "    .dataframe tbody tr th:only-of-type {\n",
              "        vertical-align: middle;\n",
              "    }\n",
              "\n",
              "    .dataframe tbody tr th {\n",
              "        vertical-align: top;\n",
              "    }\n",
              "\n",
              "    .dataframe thead th {\n",
              "        text-align: right;\n",
              "    }\n",
              "</style>\n",
              "<table border=\"1\" class=\"dataframe\">\n",
              "  <thead>\n",
              "    <tr style=\"text-align: right;\">\n",
              "      <th></th>\n",
              "      <th>area</th>\n",
              "      <th>bedroom</th>\n",
              "      <th>age</th>\n",
              "    </tr>\n",
              "  </thead>\n",
              "  <tbody>\n",
              "    <tr>\n",
              "      <th>0</th>\n",
              "      <td>1000</td>\n",
              "      <td>1</td>\n",
              "      <td>3</td>\n",
              "    </tr>\n",
              "    <tr>\n",
              "      <th>1</th>\n",
              "      <td>1600</td>\n",
              "      <td>2</td>\n",
              "      <td>1</td>\n",
              "    </tr>\n",
              "    <tr>\n",
              "      <th>2</th>\n",
              "      <td>2200</td>\n",
              "      <td>2</td>\n",
              "      <td>2</td>\n",
              "    </tr>\n",
              "    <tr>\n",
              "      <th>3</th>\n",
              "      <td>2600</td>\n",
              "      <td>3</td>\n",
              "      <td>4</td>\n",
              "    </tr>\n",
              "    <tr>\n",
              "      <th>4</th>\n",
              "      <td>3600</td>\n",
              "      <td>3</td>\n",
              "      <td>5</td>\n",
              "    </tr>\n",
              "    <tr>\n",
              "      <th>5</th>\n",
              "      <td>4200</td>\n",
              "      <td>4</td>\n",
              "      <td>2</td>\n",
              "    </tr>\n",
              "    <tr>\n",
              "      <th>6</th>\n",
              "      <td>4500</td>\n",
              "      <td>4</td>\n",
              "      <td>3</td>\n",
              "    </tr>\n",
              "    <tr>\n",
              "      <th>7</th>\n",
              "      <td>2700</td>\n",
              "      <td>2</td>\n",
              "      <td>1</td>\n",
              "    </tr>\n",
              "    <tr>\n",
              "      <th>8</th>\n",
              "      <td>1800</td>\n",
              "      <td>1</td>\n",
              "      <td>1</td>\n",
              "    </tr>\n",
              "    <tr>\n",
              "      <th>9</th>\n",
              "      <td>3300</td>\n",
              "      <td>3</td>\n",
              "      <td>3</td>\n",
              "    </tr>\n",
              "    <tr>\n",
              "      <th>10</th>\n",
              "      <td>2950</td>\n",
              "      <td>3</td>\n",
              "      <td>2</td>\n",
              "    </tr>\n",
              "    <tr>\n",
              "      <th>11</th>\n",
              "      <td>5200</td>\n",
              "      <td>4</td>\n",
              "      <td>3</td>\n",
              "    </tr>\n",
              "    <tr>\n",
              "      <th>12</th>\n",
              "      <td>3700</td>\n",
              "      <td>3</td>\n",
              "      <td>2</td>\n",
              "    </tr>\n",
              "    <tr>\n",
              "      <th>13</th>\n",
              "      <td>1450</td>\n",
              "      <td>2</td>\n",
              "      <td>1</td>\n",
              "    </tr>\n",
              "    <tr>\n",
              "      <th>14</th>\n",
              "      <td>1250</td>\n",
              "      <td>1</td>\n",
              "      <td>1</td>\n",
              "    </tr>\n",
              "  </tbody>\n",
              "</table>\n",
              "</div>\n",
              "      <button class=\"colab-df-convert\" onclick=\"convertToInteractive('df-ba7c73c1-05f7-414c-8f91-a83a5fdd3196')\"\n",
              "              title=\"Convert this dataframe to an interactive table.\"\n",
              "              style=\"display:none;\">\n",
              "        \n",
              "  <svg xmlns=\"http://www.w3.org/2000/svg\" height=\"24px\"viewBox=\"0 0 24 24\"\n",
              "       width=\"24px\">\n",
              "    <path d=\"M0 0h24v24H0V0z\" fill=\"none\"/>\n",
              "    <path d=\"M18.56 5.44l.94 2.06.94-2.06 2.06-.94-2.06-.94-.94-2.06-.94 2.06-2.06.94zm-11 1L8.5 8.5l.94-2.06 2.06-.94-2.06-.94L8.5 2.5l-.94 2.06-2.06.94zm10 10l.94 2.06.94-2.06 2.06-.94-2.06-.94-.94-2.06-.94 2.06-2.06.94z\"/><path d=\"M17.41 7.96l-1.37-1.37c-.4-.4-.92-.59-1.43-.59-.52 0-1.04.2-1.43.59L10.3 9.45l-7.72 7.72c-.78.78-.78 2.05 0 2.83L4 21.41c.39.39.9.59 1.41.59.51 0 1.02-.2 1.41-.59l7.78-7.78 2.81-2.81c.8-.78.8-2.07 0-2.86zM5.41 20L4 18.59l7.72-7.72 1.47 1.35L5.41 20z\"/>\n",
              "  </svg>\n",
              "      </button>\n",
              "      \n",
              "  <style>\n",
              "    .colab-df-container {\n",
              "      display:flex;\n",
              "      flex-wrap:wrap;\n",
              "      gap: 12px;\n",
              "    }\n",
              "\n",
              "    .colab-df-convert {\n",
              "      background-color: #E8F0FE;\n",
              "      border: none;\n",
              "      border-radius: 50%;\n",
              "      cursor: pointer;\n",
              "      display: none;\n",
              "      fill: #1967D2;\n",
              "      height: 32px;\n",
              "      padding: 0 0 0 0;\n",
              "      width: 32px;\n",
              "    }\n",
              "\n",
              "    .colab-df-convert:hover {\n",
              "      background-color: #E2EBFA;\n",
              "      box-shadow: 0px 1px 2px rgba(60, 64, 67, 0.3), 0px 1px 3px 1px rgba(60, 64, 67, 0.15);\n",
              "      fill: #174EA6;\n",
              "    }\n",
              "\n",
              "    [theme=dark] .colab-df-convert {\n",
              "      background-color: #3B4455;\n",
              "      fill: #D2E3FC;\n",
              "    }\n",
              "\n",
              "    [theme=dark] .colab-df-convert:hover {\n",
              "      background-color: #434B5C;\n",
              "      box-shadow: 0px 1px 3px 1px rgba(0, 0, 0, 0.15);\n",
              "      filter: drop-shadow(0px 1px 2px rgba(0, 0, 0, 0.3));\n",
              "      fill: #FFFFFF;\n",
              "    }\n",
              "  </style>\n",
              "\n",
              "      <script>\n",
              "        const buttonEl =\n",
              "          document.querySelector('#df-ba7c73c1-05f7-414c-8f91-a83a5fdd3196 button.colab-df-convert');\n",
              "        buttonEl.style.display =\n",
              "          google.colab.kernel.accessAllowed ? 'block' : 'none';\n",
              "\n",
              "        async function convertToInteractive(key) {\n",
              "          const element = document.querySelector('#df-ba7c73c1-05f7-414c-8f91-a83a5fdd3196');\n",
              "          const dataTable =\n",
              "            await google.colab.kernel.invokeFunction('convertToInteractive',\n",
              "                                                     [key], {});\n",
              "          if (!dataTable) return;\n",
              "\n",
              "          const docLinkHtml = 'Like what you see? Visit the ' +\n",
              "            '<a target=\"_blank\" href=https://colab.research.google.com/notebooks/data_table.ipynb>data table notebook</a>'\n",
              "            + ' to learn more about interactive tables.';\n",
              "          element.innerHTML = '';\n",
              "          dataTable['output_type'] = 'display_data';\n",
              "          await google.colab.output.renderOutput(dataTable, element);\n",
              "          const docLink = document.createElement('div');\n",
              "          docLink.innerHTML = docLinkHtml;\n",
              "          element.appendChild(docLink);\n",
              "        }\n",
              "      </script>\n",
              "    </div>\n",
              "  </div>\n",
              "  "
            ]
          },
          "metadata": {},
          "execution_count": 3
        }
      ]
    },
    {
      "cell_type": "code",
      "source": [
        "y=df['price']\n",
        "y"
      ],
      "metadata": {
        "id": "BF1PVVvi9xp8",
        "colab": {
          "base_uri": "https://localhost:8080/"
        },
        "outputId": "d66da806-881a-4c31-a466-352dc0f846dc"
      },
      "execution_count": 4,
      "outputs": [
        {
          "output_type": "execute_result",
          "data": {
            "text/plain": [
              "0      2500000\n",
              "1      3500000\n",
              "2      4000000\n",
              "3      4500000\n",
              "4      5700000\n",
              "5      7000000\n",
              "6      8500000\n",
              "7      5000000\n",
              "8      3800000\n",
              "9      5000000\n",
              "10     5350000\n",
              "11    12200000\n",
              "12     6500000\n",
              "13     3000000\n",
              "14     2800000\n",
              "Name: price, dtype: int64"
            ]
          },
          "metadata": {},
          "execution_count": 4
        }
      ]
    },
    {
      "cell_type": "markdown",
      "source": [
        "---"
      ],
      "metadata": {
        "id": "mTgW2ZgVKx4n"
      }
    },
    {
      "cell_type": "markdown",
      "source": [
        "# **ML Model**"
      ],
      "metadata": {
        "id": "tLJc1HGL96sr"
      }
    },
    {
      "cell_type": "code",
      "source": [
        "from sklearn import linear_model"
      ],
      "metadata": {
        "id": "rlsgfEm393L7"
      },
      "execution_count": 5,
      "outputs": []
    },
    {
      "cell_type": "code",
      "source": [
        "reg=linear_model.LinearRegression()"
      ],
      "metadata": {
        "id": "76h-CAQR-Auz"
      },
      "execution_count": 6,
      "outputs": []
    },
    {
      "cell_type": "code",
      "source": [
        "reg.fit(X,y)"
      ],
      "metadata": {
        "id": "rSbwHjm_-BQr",
        "colab": {
          "base_uri": "https://localhost:8080/"
        },
        "outputId": "95b51b3a-43a1-4c94-c4bf-eee66ee8cfb2"
      },
      "execution_count": 7,
      "outputs": [
        {
          "output_type": "execute_result",
          "data": {
            "text/plain": [
              "LinearRegression()"
            ]
          },
          "metadata": {},
          "execution_count": 7
        }
      ]
    },
    {
      "cell_type": "code",
      "source": [
        "area=int(input('Enter the sq.ft of the house - '))\n",
        "bedroom=int(input('Enter the number of bedroom in the house - '))\n",
        "age=int(input('Enter the age of the house - '))\n",
        "price=reg.predict([[area,bedroom,age]])\n",
        "print('The price of the house - ',price)"
      ],
      "metadata": {
        "colab": {
          "base_uri": "https://localhost:8080/"
        },
        "id": "e1SQm5XXH9bG",
        "outputId": "f988d0dc-e78f-4592-ff31-91134ef8faa4"
      },
      "execution_count": 8,
      "outputs": [
        {
          "output_type": "stream",
          "name": "stdout",
          "text": [
            "Enter the sq.ft of the house - 3100\n",
            "Enter the number of bedroom in the house - 2\n",
            "Enter the age of the house - 1\n",
            "The price of the house -  [6559961.27004704]\n"
          ]
        },
        {
          "output_type": "stream",
          "name": "stderr",
          "text": [
            "/usr/local/lib/python3.7/dist-packages/sklearn/base.py:451: UserWarning: X does not have valid feature names, but LinearRegression was fitted with feature names\n",
            "  \"X does not have valid feature names, but\"\n"
          ]
        }
      ]
    },
    {
      "cell_type": "code",
      "source": [
        "reg.score(X,y)"
      ],
      "metadata": {
        "id": "Gyn0CZaC-RX0",
        "colab": {
          "base_uri": "https://localhost:8080/"
        },
        "outputId": "e60d04fd-eb65-43bb-ee46-94c83bca0f88"
      },
      "execution_count": 9,
      "outputs": [
        {
          "output_type": "execute_result",
          "data": {
            "text/plain": [
              "0.8981252548041194"
            ]
          },
          "metadata": {},
          "execution_count": 9
        }
      ]
    },
    {
      "cell_type": "code",
      "source": [
        "m=reg.coef_\n",
        "m"
      ],
      "metadata": {
        "id": "upcsVdWl-bq7",
        "colab": {
          "base_uri": "https://localhost:8080/"
        },
        "outputId": "584ca65d-9afd-419a-e41e-45a6f1b6183b"
      },
      "execution_count": 10,
      "outputs": [
        {
          "output_type": "execute_result",
          "data": {
            "text/plain": [
              "array([   2421.86929461, -618984.65161505, -174748.60403957])"
            ]
          },
          "metadata": {},
          "execution_count": 10
        }
      ]
    },
    {
      "cell_type": "code",
      "source": [
        "m1=1664.86842772\n",
        "m2=-141049.53607463\n",
        "m3=-155905.28824215"
      ],
      "metadata": {
        "id": "ALLj3jk5-dwx"
      },
      "execution_count": 11,
      "outputs": []
    },
    {
      "cell_type": "code",
      "source": [
        "b=reg.intercept_\n",
        "b"
      ],
      "metadata": {
        "id": "umeyKWCf-ox3",
        "colab": {
          "base_uri": "https://localhost:8080/"
        },
        "outputId": "4fa5a092-7214-4862-de49-c559d96db4b4"
      },
      "execution_count": 12,
      "outputs": [
        {
          "output_type": "execute_result",
          "data": {
            "text/plain": [
              "464884.364012504"
            ]
          },
          "metadata": {},
          "execution_count": 12
        }
      ]
    },
    {
      "cell_type": "code",
      "source": [
        "y=(m1*2300)+(m2*3)+(m3*4)+b\n",
        "y"
      ],
      "metadata": {
        "id": "-PA_Mh3X-pIX",
        "colab": {
          "base_uri": "https://localhost:8080/"
        },
        "outputId": "93621531-2b39-4502-fcb1-f76c3c31b119"
      },
      "execution_count": 13,
      "outputs": [
        {
          "output_type": "execute_result",
          "data": {
            "text/plain": [
              "3247311.986576014"
            ]
          },
          "metadata": {},
          "execution_count": 13
        }
      ]
    },
    {
      "cell_type": "markdown",
      "source": [
        "---"
      ],
      "metadata": {
        "id": "v5U3W9P2Kzwd"
      }
    },
    {
      "cell_type": "markdown",
      "source": [
        "# **Download the model using pickle**"
      ],
      "metadata": {
        "id": "rhvBYspa-3vL"
      }
    },
    {
      "cell_type": "code",
      "source": [
        "import pickle\n",
        "with open('housepricemodel','wb') as f:\n",
        "  pickle.dump(reg,f)"
      ],
      "metadata": {
        "id": "57gS_yLc-tFP"
      },
      "execution_count": 14,
      "outputs": []
    }
  ]
}